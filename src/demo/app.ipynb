{
 "cells": [
  {
   "cell_type": "code",
   "execution_count": 3,
   "metadata": {},
   "outputs": [],
   "source": [
    "import os\n",
    "\n",
    "import numpy as np\n",
    "\n",
    "from detector_testing_system.device import run_device\n",
    "from detector_testing_system.experiment import ExperimentConfig, read_data, run_experiment"
   ]
  },
  {
   "cell_type": "code",
   "execution_count": null,
   "metadata": {},
   "outputs": [],
   "source": [
    "LABEL = 'C23K053'\n",
    "THRESHOLD = 40"
   ]
  },
  {
   "cell_type": "code",
   "execution_count": 4,
   "metadata": {},
   "outputs": [],
   "source": [
    "config = ExperimentConfig.from_ini(\n",
    "    filepath=os.path.join('.', 'ini', f'{LABEL}.ini'),\n",
    ")"
   ]
  },
  {
   "cell_type": "code",
   "execution_count": 5,
   "metadata": {},
   "outputs": [],
   "source": [
    "device = run_device(\n",
    "    config=config,\n",
    ")"
   ]
  },
  {
   "cell_type": "code",
   "execution_count": null,
   "metadata": {},
   "outputs": [],
   "source": [
    "# read a spectrum\n",
    "data = read_data(\n",
    "    device=device,\n",
    "    exposure=[2, ],\n",
    "    n_frames=10,\n",
    ")\n",
    "data.show()"
   ]
  },
  {
   "cell_type": "code",
   "execution_count": null,
   "metadata": {},
   "outputs": [],
   "source": [
    "# read a sequence of spectra\n",
    "data = read_data(\n",
    "    device=device,\n",
    "    exposure=np.arange(2, 10+2, 2),\n",
    "    n_frames=100,\n",
    ")\n",
    "data.show(\n",
    "    legend=True,\n",
    "    save=True,\n",
    ")"
   ]
  },
  {
   "cell_type": "code",
   "execution_count": null,
   "metadata": {},
   "outputs": [],
   "source": [
    "run_experiment(\n",
    "    device=device,\n",
    "    config=config,\n",
    "    params=[\n",
    "        (100, np.arange(2, 10+2, 2)),\n",
    "    ],\n",
    "    label=os.path.join(LABEL, 'test'),\n",
    "    force=True,\n",
    ")\n"
   ]
  },
  {
   "cell_type": "code",
   "execution_count": null,
   "metadata": {},
   "outputs": [],
   "source": []
  }
 ],
 "metadata": {
  "kernelspec": {
   "display_name": "env",
   "language": "python",
   "name": "python3"
  },
  "language_info": {
   "codemirror_mode": {
    "name": "ipython",
    "version": 3
   },
   "file_extension": ".py",
   "mimetype": "text/x-python",
   "name": "python",
   "nbconvert_exporter": "python",
   "pygments_lexer": "ipython3",
   "version": "3.10.11"
  }
 },
 "nbformat": 4,
 "nbformat_minor": 4
}
