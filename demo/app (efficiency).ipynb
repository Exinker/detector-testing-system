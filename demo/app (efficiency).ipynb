{
 "cells": [
  {
   "cell_type": "code",
   "execution_count": null,
   "metadata": {},
   "outputs": [],
   "source": [
    "import os\n",
    "\n",
    "import numpy as np\n",
    "\n",
    "from detector_testing_system.characteristic.efficiency import (\n",
    "    calculate_efficiency,\n",
    "    research_efficiency,\n",
    ")\n",
    "from detector_testing_system.device import run_device\n",
    "from detector_testing_system.experiment import (\n",
    "    Data,\n",
    "    ExperimentConfig,\n",
    "    create_mask,\n",
    "    load_data,\n",
    "    run_experiment,\n",
    "    split_data_by_detector,\n",
    ")\n",
    "from detector_testing_system.output import Output\n",
    "from vmk_spectrum3_wrapper.detector import Detector\n",
    "from vmk_spectrum3_wrapper.types import Array"
   ]
  },
  {
   "cell_type": "code",
   "execution_count": null,
   "metadata": {},
   "outputs": [],
   "source": [
    "LABEL = 'test'\n",
    "THRESHOLD = (0, 40)"
   ]
  },
  {
   "cell_type": "code",
   "execution_count": null,
   "metadata": {},
   "outputs": [],
   "source": [
    "config = ExperimentConfig.from_ini(\n",
    "    filepath=os.path.join('.', 'ini', f'{LABEL}.ini'),\n",
    ")"
   ]
  },
  {
   "cell_type": "code",
   "execution_count": null,
   "metadata": {},
   "outputs": [],
   "source": [
    "device = run_device(\n",
    "    config=config,\n",
    ")\n",
    "run_experiment(\n",
    "    device=device,\n",
    "    config=config,\n",
    "    params=[\n",
    "        (1000, np.arange(2, 10, 1)),\n",
    "        (100, np.arange(10, 50, 2)),\n",
    "    ],\n",
    "    label=os.path.join(LABEL, 'efficiency'),\n",
    "    force=True,\n",
    ")\n",
    "\n",
    "data = load_data(\n",
    "    label=os.path.join(LABEL, 'efficiency'),\n",
    "    show=True,\n",
    ")"
   ]
  },
  {
   "cell_type": "code",
   "execution_count": null,
   "metadata": {},
   "outputs": [],
   "source": [
    "n = 42\n",
    "\n",
    "capacity = calculate_efficiency(\n",
    "    output=Output.create(data=data, n=n),\n",
    "    threshold=THRESHOLD,\n",
    "    show=True,\n",
    ")"
   ]
  },
  {
   "cell_type": "code",
   "execution_count": null,
   "metadata": {},
   "outputs": [],
   "source": [
    "for i, dat in enumerate(split_data_by_detector(data, detector=Detector.BLPP4100), start=1):\n",
    "    match i:\n",
    "        case 1:\n",
    "            mask = create_mask(dat, bounds=(200, 800))\n",
    "        case _:\n",
    "            mask = None\n",
    "\n",
    "    capacity = research_efficiency(\n",
    "        dat,\n",
    "        threshold=THRESHOLD,\n",
    "        mask=mask,\n",
    "        show=True,\n",
    "        # bins=np.linspace(0, 50_000, 40),\n",
    "    )"
   ]
  },
  {
   "cell_type": "code",
   "execution_count": null,
   "metadata": {},
   "outputs": [],
   "source": []
  }
 ],
 "metadata": {
  "kernelspec": {
   "display_name": ".venv",
   "language": "python",
   "name": "python3"
  },
  "language_info": {
   "codemirror_mode": {
    "name": "ipython",
    "version": 3
   },
   "file_extension": ".py",
   "mimetype": "text/x-python",
   "name": "python",
   "nbconvert_exporter": "python",
   "pygments_lexer": "ipython3",
   "version": "3.10.16"
  }
 },
 "nbformat": 4,
 "nbformat_minor": 4
}
