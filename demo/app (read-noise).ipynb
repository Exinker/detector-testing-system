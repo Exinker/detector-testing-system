{
 "cells": [
  {
   "cell_type": "code",
   "execution_count": null,
   "metadata": {},
   "outputs": [],
   "source": [
    "import os\n",
    "\n",
    "import numpy as np\n",
    "\n",
    "from detector_testing_system.characteristic.read_noise import (\n",
    "    show_intensity,\n",
    "    research_read_noise,\n",
    "    research_relative_read_noise,\n",
    ")\n",
    "from detector_testing_system.device import run_device\n",
    "from detector_testing_system.experiment import (\n",
    "    ExperimentConfig,\n",
    "    load_data,\n",
    "    run_experiment,\n",
    ")"
   ]
  },
  {
   "cell_type": "code",
   "execution_count": 3,
   "metadata": {},
   "outputs": [],
   "source": [
    "LABEL = 'C23K053'\n",
    "THRESHOLD = 40"
   ]
  },
  {
   "cell_type": "code",
   "execution_count": 5,
   "metadata": {},
   "outputs": [],
   "source": [
    "config = ExperimentConfig.from_ini(\n",
    "    filepath=os.path.join('.', 'ini', f'{LABEL}.ini'),\n",
    ")"
   ]
  },
  {
   "cell_type": "code",
   "execution_count": null,
   "metadata": {},
   "outputs": [],
   "source": [
    "device = run_device(\n",
    "    config=config,\n",
    ")\n",
    "run_experiment(\n",
    "    device=device,\n",
    "    config=config,\n",
    "    params=[\n",
    "        (1_000, np.full((100), 2)),\n",
    "    ],\n",
    "    label=os.path.join(LABEL, 'read-noise'),\n",
    "    force=True,\n",
    ")\n",
    "\n",
    "data = load_data(\n",
    "    label=os.path.join(LABEL, 'read-noise'),\n",
    "    # show=True,\n",
    ")"
   ]
  },
  {
   "cell_type": "code",
   "execution_count": null,
   "metadata": {},
   "outputs": [],
   "source": [
    "read_noise = research_read_noise(\n",
    "    data=data,\n",
    "    show=True,\n",
    ")"
   ]
  },
  {
   "cell_type": "code",
   "execution_count": null,
   "metadata": {},
   "outputs": [],
   "source": [
    "relative_read_noise = research_relative_read_noise(\n",
    "    data=data,\n",
    "    show=True,\n",
    ")"
   ]
  },
  {
   "cell_type": "code",
   "execution_count": null,
   "metadata": {},
   "outputs": [],
   "source": [
    "n = 42\n",
    "\n",
    "read_noise = show_intensity(\n",
    "    data=data, n=n,\n",
    "    show=True,\n",
    ")"
   ]
  },
  {
   "cell_type": "code",
   "execution_count": null,
   "metadata": {},
   "outputs": [],
   "source": []
  }
 ],
 "metadata": {
  "kernelspec": {
   "display_name": "env",
   "language": "python",
   "name": "python3"
  },
  "language_info": {
   "codemirror_mode": {
    "name": "ipython",
    "version": 3
   },
   "file_extension": ".py",
   "mimetype": "text/x-python",
   "name": "python",
   "nbconvert_exporter": "python",
   "pygments_lexer": "ipython3",
   "version": "3.10.11"
  }
 },
 "nbformat": 4,
 "nbformat_minor": 2
}
