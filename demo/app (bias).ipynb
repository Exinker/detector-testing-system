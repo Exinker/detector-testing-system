{
 "cells": [
  {
   "cell_type": "code",
   "execution_count": null,
   "metadata": {},
   "outputs": [],
   "source": [
    "import os\n",
    "\n",
    "import numpy as np\n",
    "\n",
    "from detector_testing_system.characteristic.bias import (\n",
    "    calculate_bias,\n",
    "    research_bias,\n",
    ")\n",
    "from detector_testing_system.device import run_device\n",
    "from detector_testing_system.experiment import (\n",
    "    ExperimentConfig,\n",
    "    load_data,\n",
    "    run_experiment,\n",
    ")\n",
    "from detector_testing_system.output import Output"
   ]
  },
  {
   "cell_type": "code",
   "execution_count": 6,
   "metadata": {},
   "outputs": [],
   "source": [
    "LABEL = 'C23K053'\n",
    "THRESHOLD = 40"
   ]
  },
  {
   "cell_type": "code",
   "execution_count": 7,
   "metadata": {},
   "outputs": [],
   "source": [
    "config = ExperimentConfig.from_ini(\n",
    "    filepath=os.path.join('.', 'ini', f'{LABEL}.ini'),\n",
    ")"
   ]
  },
  {
   "cell_type": "code",
   "execution_count": null,
   "metadata": {},
   "outputs": [],
   "source": [
    "device = run_device(\n",
    "    config=config,\n",
    ")\n",
    "run_experiment(\n",
    "    device=device,\n",
    "    config=config,\n",
    "    params=[\n",
    "        (100, np.arange(5, 50+5, 5)),\n",
    "    ],\n",
    "    label=os.path.join(LABEL, 'bias'),\n",
    "    force=True,\n",
    ")\n",
    "\n",
    "data = load_data(\n",
    "    label=os.path.join(LABEL, 'bias'),\n",
    "    show=True,\n",
    ")"
   ]
  },
  {
   "cell_type": "code",
   "execution_count": null,
   "metadata": {},
   "outputs": [],
   "source": [
    "bias = calculate_bias(\n",
    "    output=Output.create(data=data, n=42),\n",
    "    threshold=THRESHOLD,\n",
    "    show=True,\n",
    ")"
   ]
  },
  {
   "cell_type": "code",
   "execution_count": null,
   "metadata": {},
   "outputs": [],
   "source": [
    "bias = research_bias(\n",
    "    data=data,\n",
    "    threshold=THRESHOLD,\n",
    "    show=True,\n",
    ")"
   ]
  },
  {
   "cell_type": "code",
   "execution_count": null,
   "metadata": {},
   "outputs": [],
   "source": []
  }
 ],
 "metadata": {
  "kernelspec": {
   "display_name": "env",
   "language": "python",
   "name": "python3"
  },
  "language_info": {
   "codemirror_mode": {
    "name": "ipython",
    "version": 3
   },
   "file_extension": ".py",
   "mimetype": "text/x-python",
   "name": "python",
   "nbconvert_exporter": "python",
   "pygments_lexer": "ipython3",
   "version": "3.10.11"
  }
 },
 "nbformat": 4,
 "nbformat_minor": 4
}
