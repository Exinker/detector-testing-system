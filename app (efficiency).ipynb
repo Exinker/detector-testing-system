{
 "cells": [
  {
   "cell_type": "code",
   "execution_count": null,
   "metadata": {},
   "outputs": [],
   "source": [
    "import os\n",
    "\n",
    "import numpy as np\n",
    "\n",
    "from detector_testing_system.characteristic.efficiency import (\n",
    "    calculate_efficiency,\n",
    "    research_efficiency,\n",
    ")\n",
    "from detector_testing_system.device import run_device\n",
    "from detector_testing_system.experiment import (\n",
    "    ExperimentConfig,\n",
    "    load_data,\n",
    "    run_experiment,\n",
    "    split_data_by_detector,\n",
    ")\n",
    "from detector_testing_system.output import Output\n",
    "from vmk_spectrum3_wrapper.detector import Detector"
   ]
  },
  {
   "cell_type": "code",
   "execution_count": null,
   "metadata": {},
   "outputs": [],
   "source": [
    "LABEL = 'test'\n",
    "THRESHOLD = 40"
   ]
  },
  {
   "cell_type": "code",
   "execution_count": null,
   "metadata": {},
   "outputs": [],
   "source": [
    "config = ExperimentConfig.from_ini(\n",
    "    filepath=os.path.join('.', 'ini', f'{LABEL}.ini'),\n",
    ")"
   ]
  },
  {
   "cell_type": "code",
   "execution_count": null,
   "metadata": {},
   "outputs": [],
   "source": [
    "device = run_device(\n",
    "    config=config,\n",
    ")\n",
    "run_experiment(\n",
    "    device=device,\n",
    "    config=config,\n",
    "    params=[\n",
    "        (1000, np.arange(2, 10, 1)),\n",
    "        (100, np.arange(10, 50, 2)),\n",
    "    ],\n",
    "    label=os.path.join(LABEL, 'efficiency'),\n",
    "    force=True,\n",
    ")\n",
    "\n",
    "data = load_data(\n",
    "    label=os.path.join(LABEL, 'efficiency'),\n",
    "    show=True,\n",
    ")"
   ]
  },
  {
   "cell_type": "code",
   "execution_count": null,
   "metadata": {},
   "outputs": [],
   "source": [
    "capacity = calculate_efficiency(\n",
    "    output=Output.create(data=data, n=1942),\n",
    "    threshold=THRESHOLD,\n",
    "    show=True,\n",
    ")"
   ]
  },
  {
   "cell_type": "code",
   "execution_count": null,
   "metadata": {},
   "outputs": [],
   "source": [
    "for dat in split_data_by_detector(data, detector=Detector.BLPP4100):\n",
    "    capacity = research_efficiency(\n",
    "        dat,\n",
    "        threshold=THRESHOLD,\n",
    "        show=True,\n",
    "        # bins=np.linspace(0, 50_000, 40),\n",
    "    )"
   ]
  },
  {
   "cell_type": "code",
   "execution_count": null,
   "metadata": {},
   "outputs": [],
   "source": []
  }
 ],
 "metadata": {
  "kernelspec": {
   "display_name": "env",
   "language": "python",
   "name": "python3"
  },
  "language_info": {
   "codemirror_mode": {
    "name": "ipython",
    "version": 3
   },
   "file_extension": ".py",
   "mimetype": "text/x-python",
   "name": "python",
   "nbconvert_exporter": "python",
   "pygments_lexer": "ipython3",
   "version": "3.10.11"
  }
 },
 "nbformat": 4,
 "nbformat_minor": 4
}
