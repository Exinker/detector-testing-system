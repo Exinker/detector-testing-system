{
 "cells": [
  {
   "cell_type": "code",
   "execution_count": null,
   "metadata": {},
   "outputs": [],
   "source": [
    "import os\n",
    "\n",
    "import numpy as np\n",
    "\n",
    "from config import config, device\n",
    "\n",
    "from core.data import load_data\n",
    "from core.experiment import run_experiment\n",
    "from utils.gradient import calculate_gradient\n",
    "from utils.nonlinearity import calculate_nonlinearity, research_nonlinearity, compare_nonlinearity"
   ]
  },
  {
   "cell_type": "code",
   "execution_count": null,
   "metadata": {},
   "outputs": [],
   "source": [
    "LABEL = config.device_id\n",
    "THRESHOLD = 40"
   ]
  },
  {
   "cell_type": "code",
   "execution_count": null,
   "metadata": {},
   "outputs": [],
   "source": [
    "# run_experiment(\n",
    "#     device=device,\n",
    "#     params=[\n",
    "#         (100, np.arange(2, 50+2, 2)),\n",
    "#     ],\n",
    "#     label=label,\n",
    "#     force=True,\n",
    "# )\n",
    "\n",
    "data = load_data(\n",
    "    label=os.path.join(LABEL, 'nonlinearity'),\n",
    "    show=True,\n",
    ")"
   ]
  },
  {
   "cell_type": "code",
   "execution_count": null,
   "metadata": {},
   "outputs": [],
   "source": [
    "n = 42\n",
    "\n",
    "calculate_gradient(\n",
    "    data=data, n=n,\n",
    "    show=True,\n",
    ")\n",
    "calculate_nonlinearity(\n",
    "    data=data, n=n,\n",
    "    show=True,\n",
    ")"
   ]
  },
  {
   "cell_type": "code",
   "execution_count": null,
   "metadata": {},
   "outputs": [],
   "source": [
    "research_nonlinearity(\n",
    "    data=data,\n",
    "    show=True,\n",
    ")"
   ]
  },
  {
   "cell_type": "code",
   "execution_count": null,
   "metadata": {},
   "outputs": [],
   "source": [
    "compare_nonlinearity(\n",
    "    labels=[\n",
    "        os.path.join(LABEL, 'nonlinearity'),\n",
    "    ],\n",
    "    n=42,\n",
    ")"
   ]
  },
  {
   "cell_type": "code",
   "execution_count": null,
   "metadata": {},
   "outputs": [],
   "source": []
  }
 ],
 "metadata": {
  "kernelspec": {
   "display_name": "Python 3 (ipykernel)",
   "language": "python",
   "name": "python3"
  },
  "language_info": {
   "codemirror_mode": {
    "name": "ipython",
    "version": 3
   },
   "file_extension": ".py",
   "mimetype": "text/x-python",
   "name": "python",
   "nbconvert_exporter": "python",
   "pygments_lexer": "ipython3",
   "version": "3.10.11"
  }
 },
 "nbformat": 4,
 "nbformat_minor": 4
}
