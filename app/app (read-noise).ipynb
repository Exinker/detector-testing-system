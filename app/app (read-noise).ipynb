{
 "cells": [
  {
   "cell_type": "code",
   "execution_count": 11,
   "metadata": {},
   "outputs": [],
   "source": [
    "import numpy as np\n",
    "\n",
    "from config import config, device\n",
    "from config.config import DATA_DIRECTORY, IMG_DIRECTORY\n",
    "\n",
    "from core.data import load_data\n",
    "from core.experiment import run_experiment\n",
    "from utils.read_noise import calculate_read_noise, research_read_noise, research_relative_read_noise"
   ]
  },
  {
   "cell_type": "code",
   "execution_count": null,
   "metadata": {},
   "outputs": [],
   "source": [
    "label = 'tmp'\n",
    "\n",
    "# run_experiment(\n",
    "#     device=device,\n",
    "#     params=[\n",
    "#         (1_000, np.full((100,), 2)),\n",
    "#     ],\n",
    "#     label=label,\n",
    "#     force=True,\n",
    "# )\n",
    "\n",
    "data = load_data(\n",
    "    label=label,\n",
    "    # show=True,\n",
    ")"
   ]
  },
  {
   "cell_type": "code",
   "execution_count": null,
   "metadata": {},
   "outputs": [],
   "source": [
    "read_noise = research_read_noise(\n",
    "    data=data,\n",
    "    show=True,\n",
    ")"
   ]
  },
  {
   "cell_type": "code",
   "execution_count": null,
   "metadata": {},
   "outputs": [],
   "source": [
    "relative_read_noise = research_relative_read_noise(\n",
    "    data=data,\n",
    "    show=True,\n",
    ")"
   ]
  },
  {
   "cell_type": "code",
   "execution_count": null,
   "metadata": {},
   "outputs": [],
   "source": [
    "n = 42\n",
    "\n",
    "read_noise = calculate_read_noise(\n",
    "    data=data, n=n,\n",
    "    show=True,\n",
    ")"
   ]
  }
 ],
 "metadata": {
  "kernelspec": {
   "display_name": "env",
   "language": "python",
   "name": "python3"
  },
  "language_info": {
   "codemirror_mode": {
    "name": "ipython",
    "version": 3
   },
   "file_extension": ".py",
   "mimetype": "text/x-python",
   "name": "python",
   "nbconvert_exporter": "python",
   "pygments_lexer": "ipython3",
   "version": "3.10.11"
  }
 },
 "nbformat": 4,
 "nbformat_minor": 2
}
