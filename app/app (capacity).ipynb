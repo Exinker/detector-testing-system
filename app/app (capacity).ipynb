{
 "cells": [
  {
   "cell_type": "code",
   "execution_count": null,
   "metadata": {},
   "outputs": [],
   "source": [
    "import numpy as np\n",
    "\n",
    "from core import device\n",
    "from core.data import load_data\n",
    "from core.experiment import run_experiment\n",
    "from utils.capacity import calculate_capacity, research_capacity\n"
   ]
  },
  {
   "cell_type": "code",
   "execution_count": null,
   "metadata": {},
   "outputs": [],
   "source": [
    "label = 'tmp'\n",
    "\n",
    "run_experiment(\n",
    "    device=device,\n",
    "    params=[\n",
    "        (1000, np.arange(2, 10, 1)),\n",
    "        (100, np.arange(10, 50, 2)),\n",
    "    ],\n",
    "    label=label,\n",
    "    force=True,\n",
    ")\n",
    "\n",
    "data = load_data(\n",
    "    label=label,\n",
    "    show=True,\n",
    ")"
   ]
  },
  {
   "cell_type": "code",
   "execution_count": null,
   "metadata": {},
   "outputs": [],
   "source": [
    "THRESHOLD = 40"
   ]
  },
  {
   "cell_type": "code",
   "execution_count": null,
   "metadata": {},
   "outputs": [],
   "source": [
    "capacity = calculate_capacity(\n",
    "    data=data, n=42,\n",
    "    threshold=THRESHOLD,\n",
    "    show=True,\n",
    ")"
   ]
  },
  {
   "cell_type": "code",
   "execution_count": null,
   "metadata": {},
   "outputs": [],
   "source": [
    "capacity = research_capacity(\n",
    "    data,\n",
    "    threshold=THRESHOLD,\n",
    "    show=True,\n",
    ")"
   ]
  },
  {
   "cell_type": "code",
   "execution_count": null,
   "metadata": {},
   "outputs": [],
   "source": []
  }
 ],
 "metadata": {
  "kernelspec": {
   "display_name": "Python 3 (ipykernel)",
   "language": "python",
   "name": "python3"
  },
  "language_info": {
   "codemirror_mode": {
    "name": "ipython",
    "version": 3
   },
   "file_extension": ".py",
   "mimetype": "text/x-python",
   "name": "python",
   "nbconvert_exporter": "python",
   "pygments_lexer": "ipython3",
   "version": "3.10.11"
  }
 },
 "nbformat": 4,
 "nbformat_minor": 4
}
