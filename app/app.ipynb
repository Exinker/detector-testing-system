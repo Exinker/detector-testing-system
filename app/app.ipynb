{
 "cells": [
  {
   "cell_type": "code",
   "execution_count": null,
   "metadata": {},
   "outputs": [],
   "source": [
    "import numpy as np\n",
    "\n",
    "from config import device\n",
    "\n",
    "from core.data import read_datum, read_data\n",
    "from core.experiment import run_experiment"
   ]
  },
  {
   "cell_type": "code",
   "execution_count": null,
   "metadata": {},
   "outputs": [],
   "source": [
    "# read a spectrum\n",
    "datum = read_datum(\n",
    "    device=device,\n",
    "    exposure=2,\n",
    "    n_frames=1,\n",
    ")\n",
    "datum.show()"
   ]
  },
  {
   "cell_type": "code",
   "execution_count": null,
   "metadata": {},
   "outputs": [],
   "source": [
    "# read a sequence of spectra\n",
    "data = read_data(\n",
    "    device=device,\n",
    "    exposure=np.arange(2, 10+2, 2),\n",
    "    n_frames=100,\n",
    ")\n",
    "data.show(\n",
    "    legend=True,\n",
    "    save=True,\n",
    ")"
   ]
  },
  {
   "cell_type": "code",
   "execution_count": null,
   "metadata": {},
   "outputs": [],
   "source": [
    "label = 'tmp'\n",
    "\n",
    "run_experiment(\n",
    "    device=device,\n",
    "    params=[\n",
    "        (100, np.arange(2, 10+2, 2)),\n",
    "    ],\n",
    "    label=label,\n",
    "    force=True,\n",
    ")\n"
   ]
  },
  {
   "cell_type": "code",
   "execution_count": null,
   "metadata": {},
   "outputs": [],
   "source": []
  }
 ],
 "metadata": {
  "kernelspec": {
   "display_name": "Python 3 (ipykernel)",
   "language": "python",
   "name": "python3"
  },
  "language_info": {
   "codemirror_mode": {
    "name": "ipython",
    "version": 3
   },
   "file_extension": ".py",
   "mimetype": "text/x-python",
   "name": "python",
   "nbconvert_exporter": "python",
   "pygments_lexer": "ipython3",
   "version": "3.10.11"
  }
 },
 "nbformat": 4,
 "nbformat_minor": 4
}
